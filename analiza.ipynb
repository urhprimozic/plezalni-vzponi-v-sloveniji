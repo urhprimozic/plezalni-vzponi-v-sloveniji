{
 "cells": [
  {
   "cell_type": "markdown",
   "metadata": {},
   "source": [
    "# Analiza plezalnih vzponov v slovenskih plezališčih\n",
    "\n",
    "## Zajemanje podatkov\n",
    "Javascript na strani 8a.nu/ascents glede na zahtevane parametre vrne urejen JSON zadnjih 10.000 vzponov v Sloveniji. Žal to ni dovolj za dobro analizo, saj podatki ne sežejo dlje od leta 2018. Zato sem podatke dobil na nasilen način.\n",
    "\n",
    "### Zajete spletne strani in [regex](https://en.wikipedia.org/wiki/Inferno_(Dante)#Ninth_Circle_(Treachery))\n",
    "\n",
    "- [Seznam plezališč](https://github.com/urhprimozic/plezalni-vzponi-v-sloveniji/blob/main/data/plezalisca.json) sem pridobil s funkcijama [`vsa_slovenska_plezalisca_in_balvanisca()`](https://github.com/urhprimozic/plezalni-vzponi-v-sloveniji/blob/main/src/nalozi_podatke.py#L13) in [`strik_v_json`](https://github.com/urhprimozic/plezalni-vzponi-v-sloveniji/blob/main/src/parse_plezalisca.py#L13).\n",
    "- Za vsako plezališče sem pridobil [html datoteko](https://github.com/urhprimozic/plezalni-vzponi-v-sloveniji/blob/main/data/vzponi_bohinjska-bela.html) z uporabo funkcije [`vsi_vzponi_v_plezaliscih()`](https://github.com/urhprimozic/plezalni-vzponi-v-sloveniji/blob/main/src/nalozi_podatke.py#L34) in izluščil podatke s pomočjo demonov, ki jih prikliče [`vzponi_strik_v_json_csv()`](https://github.com/urhprimozic/plezalni-vzponi-v-sloveniji/blob/main/src/parse_plezalisca.py#L72).\n",
    "\n",
    "Urejeni podatki so shranjeni v datoteki [vzponi_strik.csv](https://github.com/urhprimozic/plezalni-vzponi-v-sloveniji/blob/main/data/vzponi_strik.csv).\n"
   ]
  },
  {
   "cell_type": "markdown",
   "metadata": {},
   "source": [
    "# Analiza\n",
    "## Priprava podatkov\n",
    "Pripravimo vse tabele, ker itak nimam več pojma kaj je kej. TODO"
   ]
  },
  {
   "cell_type": "code",
   "execution_count": 1,
   "metadata": {},
   "outputs": [
    {
     "data": {
      "text/html": [
       "<div>\n",
       "<style scoped>\n",
       "    .dataframe tbody tr th:only-of-type {\n",
       "        vertical-align: middle;\n",
       "    }\n",
       "\n",
       "    .dataframe tbody tr th {\n",
       "        vertical-align: top;\n",
       "    }\n",
       "\n",
       "    .dataframe thead th {\n",
       "        text-align: right;\n",
       "    }\n",
       "</style>\n",
       "<table border=\"1\" class=\"dataframe\">\n",
       "  <thead>\n",
       "    <tr style=\"text-align: right;\">\n",
       "      <th></th>\n",
       "      <th>uporabnik</th>\n",
       "      <th>plezalec</th>\n",
       "      <th>plezalisce</th>\n",
       "      <th>smer</th>\n",
       "      <th>tezavnost</th>\n",
       "      <th>ocena</th>\n",
       "      <th>poskusi</th>\n",
       "      <th>datum</th>\n",
       "      <th>opomba</th>\n",
       "      <th>komentar</th>\n",
       "    </tr>\n",
       "    <tr>\n",
       "      <th>id</th>\n",
       "      <th></th>\n",
       "      <th></th>\n",
       "      <th></th>\n",
       "      <th></th>\n",
       "      <th></th>\n",
       "      <th></th>\n",
       "      <th></th>\n",
       "      <th></th>\n",
       "      <th></th>\n",
       "      <th></th>\n",
       "    </tr>\n",
       "  </thead>\n",
       "  <tbody>\n",
       "    <tr>\n",
       "      <th>0</th>\n",
       "      <td>linda-okoren</td>\n",
       "      <td>Linda Okoren</td>\n",
       "      <td>osp-misja-pec</td>\n",
       "      <td>Kopfüber</td>\n",
       "      <td>5a</td>\n",
       "      <td>5a</td>\n",
       "      <td>redpoint</td>\n",
       "      <td>11/01/2020</td>\n",
       "      <td>NaN</td>\n",
       "      <td>NaN</td>\n",
       "    </tr>\n",
       "    <tr>\n",
       "      <th>1</th>\n",
       "      <td>tina-bercic</td>\n",
       "      <td>Tina Bercic</td>\n",
       "      <td>osp-misja-pec</td>\n",
       "      <td>Danger zone</td>\n",
       "      <td>7a+</td>\n",
       "      <td>7a</td>\n",
       "      <td>redpoint</td>\n",
       "      <td>11/01/2020</td>\n",
       "      <td>NaN</td>\n",
       "      <td>NaN</td>\n",
       "    </tr>\n",
       "    <tr>\n",
       "      <th>2</th>\n",
       "      <td>tina-bercic</td>\n",
       "      <td>Tina Bercic</td>\n",
       "      <td>osp-misja-pec</td>\n",
       "      <td>Hugolina</td>\n",
       "      <td>7b+</td>\n",
       "      <td>7b+</td>\n",
       "      <td>redpoint</td>\n",
       "      <td>11/01/2020</td>\n",
       "      <td>NaN</td>\n",
       "      <td>NaN</td>\n",
       "    </tr>\n",
       "    <tr>\n",
       "      <th>3</th>\n",
       "      <td>linda-okoren</td>\n",
       "      <td>Linda Okoren</td>\n",
       "      <td>osp-misja-pec</td>\n",
       "      <td>Cebelica Maja</td>\n",
       "      <td>4a</td>\n",
       "      <td>3b+</td>\n",
       "      <td>toprope</td>\n",
       "      <td>11/01/2020</td>\n",
       "      <td>NaN</td>\n",
       "      <td>NaN</td>\n",
       "    </tr>\n",
       "    <tr>\n",
       "      <th>4</th>\n",
       "      <td>linda-okoren</td>\n",
       "      <td>Linda Okoren</td>\n",
       "      <td>osp-misja-pec</td>\n",
       "      <td>Maeva</td>\n",
       "      <td>4b</td>\n",
       "      <td>4b</td>\n",
       "      <td>toprope</td>\n",
       "      <td>11/01/2020</td>\n",
       "      <td>NaN</td>\n",
       "      <td>NaN</td>\n",
       "    </tr>\n",
       "    <tr>\n",
       "      <th>...</th>\n",
       "      <td>...</td>\n",
       "      <td>...</td>\n",
       "      <td>...</td>\n",
       "      <td>...</td>\n",
       "      <td>...</td>\n",
       "      <td>...</td>\n",
       "      <td>...</td>\n",
       "      <td>...</td>\n",
       "      <td>...</td>\n",
       "      <td>...</td>\n",
       "    </tr>\n",
       "    <tr>\n",
       "      <th>38682</th>\n",
       "      <td>rupert-schindler</td>\n",
       "      <td>Rupert Schindler</td>\n",
       "      <td>vrsic</td>\n",
       "      <td>Stelutis</td>\n",
       "      <td>6c</td>\n",
       "      <td>6c</td>\n",
       "      <td>onsight</td>\n",
       "      <td>08/13/2011</td>\n",
       "      <td>NaN</td>\n",
       "      <td>3 Pitches, 6b+, 6a, 6c, all OS</td>\n",
       "    </tr>\n",
       "    <tr>\n",
       "      <th>38683</th>\n",
       "      <td>rupert-schindler</td>\n",
       "      <td>Rupert Schindler</td>\n",
       "      <td>vrsic</td>\n",
       "      <td>Luna Magnus</td>\n",
       "      <td>6b+</td>\n",
       "      <td>6b+</td>\n",
       "      <td>onsight</td>\n",
       "      <td>08/05/2011</td>\n",
       "      <td>NaN</td>\n",
       "      <td>NaN</td>\n",
       "    </tr>\n",
       "    <tr>\n",
       "      <th>38684</th>\n",
       "      <td>rupert-schindler</td>\n",
       "      <td>Rupert Schindler</td>\n",
       "      <td>vrsic</td>\n",
       "      <td>Caramba</td>\n",
       "      <td>6c</td>\n",
       "      <td>6c</td>\n",
       "      <td>onsight</td>\n",
       "      <td>08/05/2011</td>\n",
       "      <td>NaN</td>\n",
       "      <td>NaN</td>\n",
       "    </tr>\n",
       "    <tr>\n",
       "      <th>38685</th>\n",
       "      <td>rupert-schindler</td>\n",
       "      <td>Rupert Schindler</td>\n",
       "      <td>vrsic</td>\n",
       "      <td>Carambita</td>\n",
       "      <td>6c+</td>\n",
       "      <td>6c+</td>\n",
       "      <td>onsight</td>\n",
       "      <td>08/05/2011</td>\n",
       "      <td>NaN</td>\n",
       "      <td>NaN</td>\n",
       "    </tr>\n",
       "    <tr>\n",
       "      <th>38686</th>\n",
       "      <td>rupert-schindler</td>\n",
       "      <td>Rupert Schindler</td>\n",
       "      <td>vrsic</td>\n",
       "      <td>Asterix</td>\n",
       "      <td>6a+</td>\n",
       "      <td>6a+</td>\n",
       "      <td>onsight</td>\n",
       "      <td>08/05/2011</td>\n",
       "      <td>NaN</td>\n",
       "      <td>NaN</td>\n",
       "    </tr>\n",
       "  </tbody>\n",
       "</table>\n",
       "<p>38687 rows × 10 columns</p>\n",
       "</div>"
      ],
      "text/plain": [
       "              uporabnik          plezalec     plezalisce           smer  \\\n",
       "id                                                                        \n",
       "0          linda-okoren      Linda Okoren  osp-misja-pec       Kopfüber   \n",
       "1           tina-bercic       Tina Bercic  osp-misja-pec    Danger zone   \n",
       "2           tina-bercic       Tina Bercic  osp-misja-pec       Hugolina   \n",
       "3          linda-okoren      Linda Okoren  osp-misja-pec  Cebelica Maja   \n",
       "4          linda-okoren      Linda Okoren  osp-misja-pec          Maeva   \n",
       "...                 ...               ...            ...            ...   \n",
       "38682  rupert-schindler  Rupert Schindler          vrsic       Stelutis   \n",
       "38683  rupert-schindler  Rupert Schindler          vrsic    Luna Magnus   \n",
       "38684  rupert-schindler  Rupert Schindler          vrsic        Caramba   \n",
       "38685  rupert-schindler  Rupert Schindler          vrsic      Carambita   \n",
       "38686  rupert-schindler  Rupert Schindler          vrsic        Asterix   \n",
       "\n",
       "      tezavnost ocena   poskusi       datum  opomba  \\\n",
       "id                                                    \n",
       "0            5a    5a  redpoint  11/01/2020     NaN   \n",
       "1           7a+    7a  redpoint  11/01/2020     NaN   \n",
       "2           7b+   7b+  redpoint  11/01/2020     NaN   \n",
       "3            4a   3b+   toprope  11/01/2020     NaN   \n",
       "4            4b    4b   toprope  11/01/2020     NaN   \n",
       "...         ...   ...       ...         ...     ...   \n",
       "38682        6c    6c   onsight  08/13/2011     NaN   \n",
       "38683       6b+   6b+   onsight  08/05/2011     NaN   \n",
       "38684        6c    6c   onsight  08/05/2011     NaN   \n",
       "38685       6c+   6c+   onsight  08/05/2011     NaN   \n",
       "38686       6a+   6a+   onsight  08/05/2011     NaN   \n",
       "\n",
       "                             komentar  \n",
       "id                                     \n",
       "0                                 NaN  \n",
       "1                                 NaN  \n",
       "2                                 NaN  \n",
       "3                                 NaN  \n",
       "4                                 NaN  \n",
       "...                               ...  \n",
       "38682  3 Pitches, 6b+, 6a, 6c, all OS  \n",
       "38683                             NaN  \n",
       "38684                             NaN  \n",
       "38685                             NaN  \n",
       "38686                             NaN  \n",
       "\n",
       "[38687 rows x 10 columns]"
      ]
     },
     "execution_count": 1,
     "metadata": {},
     "output_type": "execute_result"
    }
   ],
   "source": [
    "import pandas as pd\n",
    "from matplotlib import pyplot as plt\n",
    "%matplotlib inline\n",
    "pd.set_option('display.max_rows', 10)\n",
    "vzponi = pd.read_csv('data/vzponi.csv', index_col='id') # vsi podatki\n",
    "plezalci = pd.read_csv('data/plezalci.csv', index_col='id') # plezalci - id \n",
    "smeri = pd.read_csv('data/smeri.csv', index_col='id') # smer - id\n",
    "plezalisca = pd.read_csv('data/plezalisca.csv', index_col='id')  # plezalisce - id\n",
    "smeri_s_plezalisci = pd.read_csv('data/smeri_plezalisca.csv', index_col='id') # smer + plezalisce (lep groupby)\n",
    "vzponi"
   ]
  },
  {
   "cell_type": "markdown",
   "metadata": {},
   "source": [
    "## Osnovni rezultati\n",
    "\n",
    "### Velikosti plezališč\n",
    "Mera za velikost naj bo število smeri. Primerjava z realnim stanjem izkazuje krhkost rezultatov. V resnici je v Dovžanovi soteski namesto 42 kar 50 smeri, v Kamnitniku pa, po podatnik vodnička iz 2017, le 38. [8a.nu](https://www.8a.nu/) je uporabniško grajena spletna stran, zato prihaja do raznih tipkarskih in drugih napak, ki povzročijo odstopanja. Slaba kvaliteta vodničkov na strani pa ne vpliva na analizo, le zavedati se je treba, da analiziramo le vzpone, zabeležene na 8a.nu. Verjetno so vse številke v lokalnih plezališčih za kakšen faktor višje (V Tržiču je uporaba portala nezaželjena.)."
   ]
  },
  {
   "cell_type": "code",
   "execution_count": 2,
   "metadata": {},
   "outputs": [
    {
     "name": "stdout",
     "output_type": "stream",
     "text": [
      "Dovžanova soteska:  42 \n",
      "Kamnitnik:  59\n"
     ]
    },
    {
     "data": {
      "image/png": "[encoded data removed]",
      "text/plain": [
       "<Figure size 432x288 with 1 Axes>"
      ]
     },
     "metadata": {
      "needs_background": "light"
     },
     "output_type": "display_data"
    }
   ],
   "source": [
    "smeri_plezalisca = pd.merge(smeri, plezalisca,left_index=True, right_index=True)[['smer', 'plezalisce']].drop_duplicates()\n",
    "smeri_plezalisca.groupby('plezalisce').size().sort_values(ascending=False).head(20).plot.bar(title='Velikosti plezališč (prvih 20)', xlabel='', ylabel=\"število smeri\")\n",
    "print('Dovžanova soteska: ' , len( smeri_plezalisca[smeri_plezalisca['plezalisce'] == 'dovzanova-soteska']) , '\\nKamnitnik: ', len(smeri_plezalisca[smeri_plezalisca['plezalisce'] == 'kamnitnik']))"
   ]
  },
  {
   "cell_type": "markdown",
   "metadata": {},
   "source": [
    "### Najbolj obiskana plezališča in  smeri\n",
    "Velikosti posameznih plezališč sovpadajo z obiskanostjo. Poleg primorske je blazno obiskan še Kotečnik."
   ]
  },
  {
   "cell_type": "code",
   "execution_count": 3,
   "metadata": {},
   "outputs": [
    {
     "data": {
      "text/plain": [
       "<AxesSubplot:title={'center':'Obiskanost plezališč'}, ylabel='število vzponov'>"
      ]
     },
     "execution_count": 3,
     "metadata": {},
     "output_type": "execute_result"
    },
    {
     "data": {
      "image/png": "[encoded data removed]",
      "text/plain": [
       "<Figure size 432x288 with 1 Axes>"
      ]
     },
     "metadata": {
      "needs_background": "light"
     },
     "output_type": "display_data"
    }
   ],
   "source": [
    "# neberljiva koda goes brrr\n",
    "# obiskanost plezališč\n",
    "plezalisca.groupby('plezalisce').size().sort_values(ascending=False).head(20).plot.bar(title='Obiskanost plezališč', xlabel='', ylabel=\"število vzponov\")"
   ]
  },
  {
   "cell_type": "code",
   "execution_count": 4,
   "metadata": {},
   "outputs": [
    {
     "data": {
      "text/plain": [
       "<AxesSubplot:title={'center':'Najbolj plezane smeri'}>"
      ]
     },
     "execution_count": 4,
     "metadata": {},
     "output_type": "execute_result"
    },
    {
     "data": {
      "image/png": "[encoded data removed]",
      "text/plain": [
       "<Figure size 432x288 with 1 Axes>"
      ]
     },
     "metadata": {
      "needs_background": "light"
     },
     "output_type": "display_data"
    }
   ],
   "source": [
    "# najbolj plezane smeri\n",
    "smeri_s_plezalisci.groupby('smer-plezalisce').size().sort_values(ascending=False).head(10).plot.barh(title='Najbolj plezane smeri', xlabel='', ylabel=\"število vzponov\")"
   ]
  },
  {
   "cell_type": "markdown",
   "metadata": {},
   "source": [
    "## Filozofi\n",
    "Poiščimo ljudi, ki pišejo najdaljše komentarje."
   ]
  },
  {
   "cell_type": "code",
   "execution_count": 5,
   "metadata": {},
   "outputs": [
    {
     "data": {
      "text/plain": [
       "<AxesSubplot:title={'center':'Skupne dolžine komentarjev'}>"
      ]
     },
     "execution_count": 5,
     "metadata": {},
     "output_type": "execute_result"
    },
    {
     "data": {
      "image/png": "[encoded data removed]",
      "text/plain": [
       "<Figure size 432x288 with 1 Axes>"
      ]
     },
     "metadata": {
      "needs_background": "light"
     },
     "output_type": "display_data"
    }
   ],
   "source": [
    "# poberemo samo tiste vzponi, kejr komentar ni prazen\n",
    "komentarji = vzponi[vzponi['komentar'] == vzponi['komentar']]\n",
    "# gledamo je uporabnika in komentar\n",
    "komentarji = komentarji[['uporabnik', 'plezalec', 'komentar']]\n",
    "# dodam stolpec z dolžino\n",
    "komentarji['dolzina']  = komentarji['komentar'].apply(len)\n",
    "# dolzine komentarjev\n",
    "dolzine = komentarji[['uporabnik', 'dolzina']]\n",
    "dolzine.groupby('uporabnik').sum().sort_values(by='dolzina', ascending= False).head(10).plot.barh(title='Skupne dolžine komentarjev',legend=False, xlabel='', colormap='viridis')"
   ]
  },
  {
   "cell_type": "markdown",
   "metadata": {},
   "source": [
    "Bolj realno oceno povedo povprečja. Da upoštevamo samo redne plezalce v mišji peči, gledamo samo tiste, ki so spisali vsaj 50 komentarjev."
   ]
  },
  {
   "cell_type": "code",
   "execution_count": 6,
   "metadata": {},
   "outputs": [
    {
     "name": "stdout",
     "output_type": "stream",
     "text": [
      "Število upoštevanih komentatorjev:  39\n"
     ]
    },
    {
     "data": {
      "text/plain": [
       "<AxesSubplot:title={'center':'Povprečne dolžine komentarjev'}>"
      ]
     },
     "execution_count": 6,
     "metadata": {},
     "output_type": "execute_result"
    },
    {
     "data": {
      "image/png": "[encoded data removed]",
      "text/plain": [
       "<Figure size 432x288 with 1 Axes>"
      ]
     },
     "metadata": {
      "needs_background": "light"
     },
     "output_type": "display_data"
    }
   ],
   "source": [
    "# konstanta, s katero priredim statistično analizo tako, da mi je všeč\n",
    "minimalno_število_komentarjev = 50\n",
    "\n",
    "# združim komentarje po uporabnikih\n",
    "komentarji_na_uporabnika = komentarji.groupby('uporabnik').size().to_frame(name=\"stevilo\")\n",
    "\n",
    "# uporabniki, ki so zadostkrat komentirali\n",
    "verodostojni_filozofi = komentarji_na_uporabnika[komentarji_na_uporabnika['stevilo'] > minimalno_število_komentarjev]\n",
    "verodostojni_filozofi.reset_index(level=0, inplace=True)\n",
    "verodostojni_filozofi = verodostojni_filozofi['uporabnik'].values #numpy array of str\n",
    "\n",
    "print('Število upoštevanih komentatorjev: ', len(verodostojni_filozofi))\n",
    "\n",
    "# dobim tabelo verodostojnih filozofov in dolzin\n",
    "dolzine.set_index('uporabnik', inplace=True)\n",
    "ustrezne_dolzine = dolzine.loc[verodostojni_filozofi] # dataframe verodostojen_uporabnik : dolzina\n",
    "\n",
    "# pogropiram po imenu in povprečim\n",
    "ustrezne_dolzine.groupby('uporabnik').mean().sort_values(by='dolzina', ascending= False).head(10).plot.barh(title='Povprečne dolžine komentarjev',legend=False, xlabel='', colormap='viridis')\n"
   ]
  },
  {
   "cell_type": "markdown",
   "metadata": {},
   "source": [
    "### Oddaljenost od prestolnice\n",
    "Ročno lahko pogledamo še oddaljensot filozofov od glavnega mesta Slovenije."
   ]
  },
  {
   "cell_type": "markdown",
   "metadata": {},
   "source": [
    "## Analiza težavnosti\n",
    "V tem poglavju bom analiziral razlike med težavnostmi in zasoljenosti ocen v posameznih plezališčih.\n",
    "\n",
    "### Povprečne ocene\n",
    "Stran 8a.nu za vsak vzpon zabeleži oceno, ki jo je predlagal uporabnik. Ocena iste smeri se tako razlikuje v različnih vzponih. Zato sem poleg težavnosti (posameznikova ocena) definiral še povprečno oceno vsake smeri (polje *ocena*)."
   ]
  },
  {
   "cell_type": "code",
   "execution_count": 10,
   "metadata": {},
   "outputs": [
    {
     "name": "stdout",
     "output_type": "stream",
     "text": [
      "            smer tezavnost ocena\n",
      "id                              \n",
      "10154  Divja oma        8a   8a+\n",
      "10892  Divja oma       8a+   8a+\n",
      "11366  Divja oma       8a+   8a+\n",
      "12972  Divja oma       8a+   8a+\n",
      "13397  Divja oma       8a+   8a+\n",
      "14031  Divja oma        8a   8a+\n"
     ]
    }
   ],
   "source": [
    "smeri_in_tezavnosti = vzponi[['smer', 'tezavnost', 'ocena']]\n",
    "print(smeri_in_tezavnosti[smeri_in_tezavnosti['smer']=='Divja oma'])\n",
    "del smeri_in_tezavnosti"
   ]
  },
  {
   "cell_type": "markdown",
   "metadata": {},
   "source": [
    "### Najtežje smeri v sloveniji\n",
    "Katere smeri so najtežje v Sloveniji?"
   ]
  },
  {
   "cell_type": "code",
   "execution_count": 12,
   "metadata": {},
   "outputs": [],
   "source": [
    "# Glej funcijo:\n",
    "# ogrodja.ocene()\n",
    "ocene = ['1a', '1a+', '1b', '1b+', '1c', '1c+', '2a', '2a+', '2b', '2b+', '2c', '2c+', '3a', '3a+', '3b', '3b+', '3c', '3c+', '4a', '4a+', '4b', '4b+', '4c', '4c+', '5a', '5a+', '5b', '5b+', '5c', '5c+', '6a', '6a+', '6b', '6b+', '6c', '6c+', '7a', '7a+', '7b', '7b+', '7c', '7c+', '8a', '8a+', '8b', '8b+', '8c', '8c+', '9a', '9a+'] #, '9b', '9b+', '9c', '9c+']\n",
    "\n",
    "# matplotlib potrebuje numerične parametre, da lahko\n",
    "# nariše graf. Zato ocene pretvorimo v cela števila\n",
    "\n",
    "#Funckija za vrednotenje ocen:\n",
    "def ocena_v_int(ocena):\n",
    "    if ocena in ocene:\n",
    "        return ocene.index(ocena)\n",
    "    # Lahke smeri nas ne zanimajo (in smeri z oceno 1a v resnici ne obstajajo)\n",
    "    # Zato lahko vse napake v podatkih slikam v '1a'\n",
    "    return 0\n",
    "        \n",
    "def int_v_oceno(x):\n",
    "    return ocene[x]\n"
   ]
  },
  {
   "cell_type": "markdown",
   "metadata": {},
   "source": [
    "Za nadaljno analizo bo pomembno, katera plezališča imajo težke smeri. Poglejmo najtežje ocene v posameznih plezališčih."
   ]
  },
  {
   "cell_type": "code",
   "execution_count": 13,
   "metadata": {},
   "outputs": [
    {
     "data": {
      "text/plain": [
       "Text(0.5, 1.0, 'Najvišje ocene v plezališčih')"
      ]
     },
     "execution_count": 13,
     "metadata": {},
     "output_type": "execute_result"
    },
    {
     "data": {
      "image/png": "[encoded data removed]",
      "text/plain": [
       "<Figure size 432x288 with 1 Axes>"
      ]
     },
     "metadata": {
      "needs_background": "light"
     },
     "output_type": "display_data"
    }
   ],
   "source": [
    "# funckija, ki iz tabele izbeza maximalno oceno\n",
    "def max_ocena(df):\n",
    "    df = df['ocena'].apply(ocena_v_int)\n",
    "    return df.max()\n",
    "    \n",
    "# tabela plezališč in največjih ocen v njem\n",
    "najvecje_ocene = vzponi.groupby('plezalisce').apply(max_ocena).sort_values(ascending=False).head(10).to_frame(name=\"numericna\")\n",
    "\n",
    "# doda plezalisce kot stolpec\n",
    "najvecje_ocene.reset_index(inplace=True)\n",
    "\n",
    "\n",
    "# popravljena skala za lepši graf\n",
    "zamik = najvecje_ocene['numericna'].min() - 1\n",
    "najvecje_ocene['numericna']-= zamik\n",
    "ocene_na_grafu = ocene[zamik:]\n",
    "# print(ocene_na_grafu)\n",
    "# print(najvecje_ocene)\n",
    "\n",
    "\n",
    "# https://stackoverflow.com/questions/66093970/pandas-plotting-bar-plot-non-numerical-data/66097436#66097436\n",
    "# open figure\n",
    "fig, ax = plt.subplots()\n",
    "# ensure limits\n",
    "ax.set_ylim([0,len(ocene_na_grafu)])\n",
    "ax.bar( x=najvecje_ocene['plezalisce'], height=najvecje_ocene['numericna'] )\n",
    "# ensure limits\n",
    "ax.set_ylim([0,len(ocene_na_grafu)])\n",
    "# set ticks\n",
    "ax.set_yticks( list(range(len(ocene_na_grafu))) )\n",
    "plt.xticks(rotation=90)\n",
    "# set tick labels\n",
    "ax.set_yticklabels( ocene_na_grafu )\n",
    "plt.title('Najvišje ocene v plezališčih')\n",
    "\n"
   ]
  },
  {
   "cell_type": "markdown",
   "metadata": {},
   "source": [
    "Za kvaliteten trening je pa bolj od maksimalnosti pomambna raznolikost dovolj težkih smeri. Glejmo število smeri z oceno vsaj 8a."
   ]
  },
  {
   "cell_type": "code",
   "execution_count": 24,
   "metadata": {},
   "outputs": [
    {
     "data": {
      "text/plain": [
       "<AxesSubplot:title={'center':'Število smeri nad 8a'}>"
      ]
     },
     "execution_count": 24,
     "metadata": {},
     "output_type": "execute_result"
    },
    {
     "data": {
      "image/png": "[encoded data removed]",
      "text/plain": [
       "<Figure size 432x288 with 1 Axes>"
      ]
     },
     "metadata": {
      "needs_background": "light"
     },
     "output_type": "display_data"
    }
   ],
   "source": [
    "meja = ocena_v_int('8a') # poglej me\n",
    "\n",
    "def st_tezkih_smeri(df):\n",
    "    # da ne stejem smeri dvojno\n",
    "    df = df[['ocena', 'smer']].drop_duplicates()\n",
    "    # print(df[df['smer']=='Divja oma'])\n",
    "    smeri = df['ocena'].apply(ocena_v_int).to_frame(name='num')\n",
    "    tezke_smeri = smeri[smeri['num'] >= meja]\n",
    "    return len(tezke_smeri)\n",
    "    \n",
    "\n",
    "\n",
    "vzponi.groupby('plezalisce').apply(st_tezkih_smeri).sort_values(ascending=False).head(10).plot.barh(title='Število smeri nad 8a', xlabel='')"
   ]
  },
  {
   "cell_type": "markdown",
   "metadata": {},
   "source": [
    "## Časovna obremenjenost plezališč\n"
   ]
  },
  {
   "cell_type": "markdown",
   "metadata": {},
   "source": [
    "## Najboljši plezalci"
   ]
  }
 ],
 "metadata": {
  "kernelspec": {
   "display_name": "Python 2",
   "language": "python",
   "name": "python2"
  },
  "language_info": {
   "codemirror_mode": {
    "name": "ipython",
    "version": 3
   },
   "file_extension": ".py",
   "mimetype": "text/x-python",
   "name": "python",
   "nbconvert_exporter": "python",
   "pygments_lexer": "ipython3",
   "version": "3.8.5"
  }
 },
 "nbformat": 4,
 "nbformat_minor": 2
}
