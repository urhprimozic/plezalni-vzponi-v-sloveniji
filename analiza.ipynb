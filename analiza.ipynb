{
 "cells": [
  {
   "cell_type": "markdown",
   "metadata": {},
   "source": [
    "# Analiza plezalnih vzponov v slovenskih plezališčih\n",
    "\n",
    "## Zajemanje podatkov\n",
    "Javascript na strani 8a.nu/ascents glede na zahtevane parametre vrne urejen JSON zadnjih 10.000 vzponov v Sloveniji. Žal to ni dovolj za dobro analizo, saj podatki ne sežejo dlje od leta 2018. Zato sem podatke pridobil na silo.\n",
    "\n",
    "### Zajete spletne strani in [regex](https://en.wikipedia.org/wiki/Algos)\n",
    "\n",
    "- [Seznam plezališč](https://github.com/urhprimozic/plezalni-vzponi-v-sloveniji/blob/main/data/plezalisca.json) sem pridobil s funkcijama [`vsa_slovenska_plezalisca_in_balvanisca()`](https://github.com/urhprimozic/plezalni-vzponi-v-sloveniji/blob/main/src/nalozi_podatke.py#L13) in [`strik_v_json`](https://github.com/urhprimozic/plezalni-vzponi-v-sloveniji/blob/main/src/parse_plezalisca.py#L13).\n",
    "- Za vsako plezališče sem pridobil [html datoteko](https://github.com/urhprimozic/plezalni-vzponi-v-sloveniji/blob/main/data/vzponi_bohinjska-bela.html) z uporabo funkcije [`vsi_vzponi_v_plezaliscih()`](https://github.com/urhprimozic/plezalni-vzponi-v-sloveniji/blob/main/src/nalozi_podatke.py#L34) in izluščil podatke s s klicom funkcije [`vzponi_strik_v_json_csv()`](https://github.com/urhprimozic/plezalni-vzponi-v-sloveniji/blob/main/src/parse_plezalisca.py#L72), ki ustvari vse potrebne tabele.\n",
    "\n",
    "Urejeni podatki so shranjeni v datoteki [vzponi_strik.csv](https://github.com/urhprimozic/plezalni-vzponi-v-sloveniji/blob/main/data/vzponi_strik.csv). Vseh vzponov, ki jih upoštevam v analizi (~0.7%  sem ignoriral zaradi napak pri parsanju) je **38686**.\n"
   ]
  },
  {
   "cell_type": "markdown",
   "metadata": {},
   "source": [
    "# Analiza\n",
    "## Priprava podatkov\n",
    "Pripravimo vse tabele, ker itak nimam več pojma kaj je kej. TODO"
   ]
  },
  {
   "cell_type": "code",
   "execution_count": 1,
   "metadata": {},
   "outputs": [
    {
     "data": {
      "text/html": [
       "<div>\n",
       "<style scoped>\n",
       "    .dataframe tbody tr th:only-of-type {\n",
       "        vertical-align: middle;\n",
       "    }\n",
       "\n",
       "    .dataframe tbody tr th {\n",
       "        vertical-align: top;\n",
       "    }\n",
       "\n",
       "    .dataframe thead th {\n",
       "        text-align: right;\n",
       "    }\n",
       "</style>\n",
       "<table border=\"1\" class=\"dataframe\">\n",
       "  <thead>\n",
       "    <tr style=\"text-align: right;\">\n",
       "      <th></th>\n",
       "      <th>uporabnik</th>\n",
       "      <th>plezalec</th>\n",
       "      <th>plezalisce</th>\n",
       "      <th>smer</th>\n",
       "      <th>tezavnost</th>\n",
       "      <th>ocena</th>\n",
       "      <th>poskusi</th>\n",
       "      <th>datum</th>\n",
       "      <th>opomba</th>\n",
       "      <th>komentar</th>\n",
       "    </tr>\n",
       "    <tr>\n",
       "      <th>id</th>\n",
       "      <th></th>\n",
       "      <th></th>\n",
       "      <th></th>\n",
       "      <th></th>\n",
       "      <th></th>\n",
       "      <th></th>\n",
       "      <th></th>\n",
       "      <th></th>\n",
       "      <th></th>\n",
       "      <th></th>\n",
       "    </tr>\n",
       "  </thead>\n",
       "  <tbody>\n",
       "    <tr>\n",
       "      <th>0</th>\n",
       "      <td>linda-okoren</td>\n",
       "      <td>Linda Okoren</td>\n",
       "      <td>osp-misja-pec</td>\n",
       "      <td>Kopfüber</td>\n",
       "      <td>5a</td>\n",
       "      <td>5a</td>\n",
       "      <td>redpoint</td>\n",
       "      <td>11/01/2020</td>\n",
       "      <td>NaN</td>\n",
       "      <td>NaN</td>\n",
       "    </tr>\n",
       "    <tr>\n",
       "      <th>1</th>\n",
       "      <td>tina-bercic</td>\n",
       "      <td>Tina Bercic</td>\n",
       "      <td>osp-misja-pec</td>\n",
       "      <td>Danger zone</td>\n",
       "      <td>7a+</td>\n",
       "      <td>7a</td>\n",
       "      <td>redpoint</td>\n",
       "      <td>11/01/2020</td>\n",
       "      <td>NaN</td>\n",
       "      <td>NaN</td>\n",
       "    </tr>\n",
       "    <tr>\n",
       "      <th>2</th>\n",
       "      <td>tina-bercic</td>\n",
       "      <td>Tina Bercic</td>\n",
       "      <td>osp-misja-pec</td>\n",
       "      <td>Hugolina</td>\n",
       "      <td>7b+</td>\n",
       "      <td>7b+</td>\n",
       "      <td>redpoint</td>\n",
       "      <td>11/01/2020</td>\n",
       "      <td>NaN</td>\n",
       "      <td>NaN</td>\n",
       "    </tr>\n",
       "    <tr>\n",
       "      <th>3</th>\n",
       "      <td>linda-okoren</td>\n",
       "      <td>Linda Okoren</td>\n",
       "      <td>osp-misja-pec</td>\n",
       "      <td>Cebelica Maja</td>\n",
       "      <td>4a</td>\n",
       "      <td>3b+</td>\n",
       "      <td>toprope</td>\n",
       "      <td>11/01/2020</td>\n",
       "      <td>NaN</td>\n",
       "      <td>NaN</td>\n",
       "    </tr>\n",
       "    <tr>\n",
       "      <th>4</th>\n",
       "      <td>linda-okoren</td>\n",
       "      <td>Linda Okoren</td>\n",
       "      <td>osp-misja-pec</td>\n",
       "      <td>Maeva</td>\n",
       "      <td>4b</td>\n",
       "      <td>4b</td>\n",
       "      <td>toprope</td>\n",
       "      <td>11/01/2020</td>\n",
       "      <td>NaN</td>\n",
       "      <td>NaN</td>\n",
       "    </tr>\n",
       "    <tr>\n",
       "      <th>...</th>\n",
       "      <td>...</td>\n",
       "      <td>...</td>\n",
       "      <td>...</td>\n",
       "      <td>...</td>\n",
       "      <td>...</td>\n",
       "      <td>...</td>\n",
       "      <td>...</td>\n",
       "      <td>...</td>\n",
       "      <td>...</td>\n",
       "      <td>...</td>\n",
       "    </tr>\n",
       "    <tr>\n",
       "      <th>38682</th>\n",
       "      <td>rupert-schindler</td>\n",
       "      <td>Rupert Schindler</td>\n",
       "      <td>vrsic</td>\n",
       "      <td>Stelutis</td>\n",
       "      <td>6c</td>\n",
       "      <td>6c</td>\n",
       "      <td>onsight</td>\n",
       "      <td>08/13/2011</td>\n",
       "      <td>NaN</td>\n",
       "      <td>3 Pitches, 6b+, 6a, 6c, all OS</td>\n",
       "    </tr>\n",
       "    <tr>\n",
       "      <th>38683</th>\n",
       "      <td>rupert-schindler</td>\n",
       "      <td>Rupert Schindler</td>\n",
       "      <td>vrsic</td>\n",
       "      <td>Luna Magnus</td>\n",
       "      <td>6b+</td>\n",
       "      <td>6b+</td>\n",
       "      <td>onsight</td>\n",
       "      <td>08/05/2011</td>\n",
       "      <td>NaN</td>\n",
       "      <td>NaN</td>\n",
       "    </tr>\n",
       "    <tr>\n",
       "      <th>38684</th>\n",
       "      <td>rupert-schindler</td>\n",
       "      <td>Rupert Schindler</td>\n",
       "      <td>vrsic</td>\n",
       "      <td>Caramba</td>\n",
       "      <td>6c</td>\n",
       "      <td>6c</td>\n",
       "      <td>onsight</td>\n",
       "      <td>08/05/2011</td>\n",
       "      <td>NaN</td>\n",
       "      <td>NaN</td>\n",
       "    </tr>\n",
       "    <tr>\n",
       "      <th>38685</th>\n",
       "      <td>rupert-schindler</td>\n",
       "      <td>Rupert Schindler</td>\n",
       "      <td>vrsic</td>\n",
       "      <td>Carambita</td>\n",
       "      <td>6c+</td>\n",
       "      <td>6c+</td>\n",
       "      <td>onsight</td>\n",
       "      <td>08/05/2011</td>\n",
       "      <td>NaN</td>\n",
       "      <td>NaN</td>\n",
       "    </tr>\n",
       "    <tr>\n",
       "      <th>38686</th>\n",
       "      <td>rupert-schindler</td>\n",
       "      <td>Rupert Schindler</td>\n",
       "      <td>vrsic</td>\n",
       "      <td>Asterix</td>\n",
       "      <td>6a+</td>\n",
       "      <td>6a+</td>\n",
       "      <td>onsight</td>\n",
       "      <td>08/05/2011</td>\n",
       "      <td>NaN</td>\n",
       "      <td>NaN</td>\n",
       "    </tr>\n",
       "  </tbody>\n",
       "</table>\n",
       "<p>38379 rows × 10 columns</p>\n",
       "</div>"
      ],
      "text/plain": [
       "              uporabnik          plezalec     plezalisce           smer  \\\n",
       "id                                                                        \n",
       "0          linda-okoren      Linda Okoren  osp-misja-pec       Kopfüber   \n",
       "1           tina-bercic       Tina Bercic  osp-misja-pec    Danger zone   \n",
       "2           tina-bercic       Tina Bercic  osp-misja-pec       Hugolina   \n",
       "3          linda-okoren      Linda Okoren  osp-misja-pec  Cebelica Maja   \n",
       "4          linda-okoren      Linda Okoren  osp-misja-pec          Maeva   \n",
       "...                 ...               ...            ...            ...   \n",
       "38682  rupert-schindler  Rupert Schindler          vrsic       Stelutis   \n",
       "38683  rupert-schindler  Rupert Schindler          vrsic    Luna Magnus   \n",
       "38684  rupert-schindler  Rupert Schindler          vrsic        Caramba   \n",
       "38685  rupert-schindler  Rupert Schindler          vrsic      Carambita   \n",
       "38686  rupert-schindler  Rupert Schindler          vrsic        Asterix   \n",
       "\n",
       "      tezavnost ocena   poskusi       datum  opomba  \\\n",
       "id                                                    \n",
       "0            5a    5a  redpoint  11/01/2020     NaN   \n",
       "1           7a+    7a  redpoint  11/01/2020     NaN   \n",
       "2           7b+   7b+  redpoint  11/01/2020     NaN   \n",
       "3            4a   3b+   toprope  11/01/2020     NaN   \n",
       "4            4b    4b   toprope  11/01/2020     NaN   \n",
       "...         ...   ...       ...         ...     ...   \n",
       "38682        6c    6c   onsight  08/13/2011     NaN   \n",
       "38683       6b+   6b+   onsight  08/05/2011     NaN   \n",
       "38684        6c    6c   onsight  08/05/2011     NaN   \n",
       "38685       6c+   6c+   onsight  08/05/2011     NaN   \n",
       "38686       6a+   6a+   onsight  08/05/2011     NaN   \n",
       "\n",
       "                             komentar  \n",
       "id                                     \n",
       "0                                 NaN  \n",
       "1                                 NaN  \n",
       "2                                 NaN  \n",
       "3                                 NaN  \n",
       "4                                 NaN  \n",
       "...                               ...  \n",
       "38682  3 Pitches, 6b+, 6a, 6c, all OS  \n",
       "38683                             NaN  \n",
       "38684                             NaN  \n",
       "38685                             NaN  \n",
       "38686                             NaN  \n",
       "\n",
       "[38379 rows x 10 columns]"
      ]
     },
     "execution_count": 1,
     "metadata": {},
     "output_type": "execute_result"
    }
   ],
   "source": [
    "import pandas as pd\n",
    "from matplotlib import pyplot as plt\n",
    "# nastavitve za design\n",
    "%matplotlib inline\n",
    "pd.set_option('display.max_rows', 10)\n",
    "# TABELE:\n",
    "# vsi vzponi \n",
    "vzponi = pd.read_csv('data/vzponi.csv', index_col='id') # vsi podatki\n",
    "# povezovalna tabela plezalcev in id-jev\n",
    "plezalci = pd.read_csv('data/plezalci.csv', index_col='id') # plezalci - id \n",
    "smeri = pd.read_csv('data/smeri.csv', index_col='id') # smer - id\n",
    "plezalisca = pd.read_csv('data/plezalisca.csv', index_col='id')  # plezalisce - id\n",
    "#isto kot smeri, le da je imenu smeri dodano plezališče \n",
    "smeri_s_plezalisci = pd.read_csv('data/smeri_plezalisca.csv', index_col='id') # smer + plezalisce (lep groupby)\n",
    "vzponi"
   ]
  },
  {
   "cell_type": "markdown",
   "metadata": {},
   "source": [
    "## Osnovni rezultati\n",
    "\n",
    "### Velikosti plezališč\n",
    "Lepa mera za velikkost plezališča je število smeri. Primerjava z realnim stanjem izkazuje krhkost rezultatov. V resnici je v Dovžanovi soteski namesto 42 kar 50 smeri, v Kamnitniku pa, po podatnik vodnička iz 2017, le 38. [8a.nu](https://www.8a.nu/) je uporabniško grajena spletna stran, zato prihaja do raznih tipkarskih in drugih napak, ki povzročijo odstopanja. Slaba kvaliteta vodničkov na strani pa ne vpliva na analizo, le zavedati se je treba, da analiziramo le vzpone, zabeležene na 8a.nu. Verjetno so vse številke v lokalnih plezališčih za kakšen faktor višje, ker plezalci tam ne beležijo vseh vzponov."
   ]
  },
  {
   "cell_type": "code",
   "execution_count": 2,
   "metadata": {},
   "outputs": [
    {
     "name": "stdout",
     "output_type": "stream",
     "text": [
      "Dovžanova soteska:  42 \n",
      "Kamnitnik:  58\n"
     ]
    },
    {
     "data": {
      "image/png": "[encoded data removed]",
      "text/plain": [
       "<Figure size 432x288 with 1 Axes>"
      ]
     },
     "metadata": {
      "needs_background": "light"
     },
     "output_type": "display_data"
    }
   ],
   "source": [
    "# Ustvarimo tabel različnih smeri in plezališč, v katerih so\n",
    "smeri_plezalisca = pd.merge(smeri, plezalisca,left_index=True, right_index=True)[['smer', 'plezalisce']].drop_duplicates()\n",
    "# združimo smeri po posameznih plezališčih in jih preštejemo\n",
    "smeri_plezalisca.groupby('plezalisce').size().sort_values(ascending=False).head(20).plot.bar(title='Velikosti plezališč (prvih 20)', xlabel='', ylabel=\"število smeri\")\n",
    "print('Dovžanova soteska: ' , len( smeri_plezalisca[smeri_plezalisca['plezalisce'] == 'dovzanova-soteska']) , '\\nKamnitnik: ', len(smeri_plezalisca[smeri_plezalisca['plezalisce'] == 'kamnitnik']))"
   ]
  },
  {
   "cell_type": "markdown",
   "metadata": {},
   "source": [
    "### Najbolj obiskana plezališča in  smeri\n",
    "Preštejmo vse vzpone v vsakem plezališču. Velikosti posameznih plezališč sovpadajo z obiskanostjo. Poleg primorske je blazno obiskan še Kotečnik."
   ]
  },
  {
   "cell_type": "code",
   "execution_count": 3,
   "metadata": {},
   "outputs": [
    {
     "data": {
      "text/plain": [
       "<AxesSubplot:title={'center':'Obiskanost plezališč'}, ylabel='število vzponov'>"
      ]
     },
     "execution_count": 3,
     "metadata": {},
     "output_type": "execute_result"
    },
    {
     "data": {
      "image/png": "[encoded data removed]",
      "text/plain": [
       "<Figure size 432x288 with 1 Axes>"
      ]
     },
     "metadata": {
      "needs_background": "light"
     },
     "output_type": "display_data"
    }
   ],
   "source": [
    "# število vseh obiskov za posamezno plezališče\n",
    "obiskanosti = plezalisca.groupby('plezalisce').size().sort_values(ascending=False)\n",
    "obiskanosti.head(20).plot.bar(title='Obiskanost plezališč', xlabel='', ylabel=\"število vzponov\")"
   ]
  },
  {
   "cell_type": "code",
   "execution_count": 4,
   "metadata": {},
   "outputs": [
    {
     "data": {
      "text/plain": [
       "<AxesSubplot:title={'center':'Najbolj plezane smeri'}>"
      ]
     },
     "execution_count": 4,
     "metadata": {},
     "output_type": "execute_result"
    },
    {
     "data": {
      "image/png": "[encoded data removed]",
      "text/plain": [
       "<Figure size 432x288 with 1 Axes>"
      ]
     },
     "metadata": {
      "needs_background": "light"
     },
     "output_type": "display_data"
    }
   ],
   "source": [
    "# najbolj plezane smeri\n",
    "smeri_s_plezalisci.groupby('smer-plezalisce').size().sort_values(ascending=False).head(10).plot.barh(title='Najbolj plezane smeri', xlabel='', ylabel=\"število vzponov\")"
   ]
  },
  {
   "cell_type": "markdown",
   "metadata": {},
   "source": [
    "Pa še najbolj plezana smer vsakega plezališča."
   ]
  },
  {
   "cell_type": "code",
   "execution_count": 5,
   "metadata": {},
   "outputs": [
    {
     "name": "stdout",
     "output_type": "stream",
     "text": [
      "Najbolj pelzana smer v Bohinjski beli je Lady .\n"
     ]
    },
    {
     "data": {
      "text/html": [
       "<div>\n",
       "<style scoped>\n",
       "    .dataframe tbody tr th:only-of-type {\n",
       "        vertical-align: middle;\n",
       "    }\n",
       "\n",
       "    .dataframe tbody tr th {\n",
       "        vertical-align: top;\n",
       "    }\n",
       "\n",
       "    .dataframe thead th {\n",
       "        text-align: right;\n",
       "    }\n",
       "</style>\n",
       "<table border=\"1\" class=\"dataframe\">\n",
       "  <thead>\n",
       "    <tr style=\"text-align: right;\">\n",
       "      <th></th>\n",
       "      <th>smer</th>\n",
       "      <th>st_vzponov</th>\n",
       "    </tr>\n",
       "    <tr>\n",
       "      <th>plezalisce</th>\n",
       "      <th></th>\n",
       "      <th></th>\n",
       "    </tr>\n",
       "  </thead>\n",
       "  <tbody>\n",
       "    <tr>\n",
       "      <th>armeko</th>\n",
       "      <td>Za mamico</td>\n",
       "      <td>2</td>\n",
       "    </tr>\n",
       "    <tr>\n",
       "      <th>armesko</th>\n",
       "      <td>Gargamel</td>\n",
       "      <td>36</td>\n",
       "    </tr>\n",
       "    <tr>\n",
       "      <th>bitenj-potok</th>\n",
       "      <td>Tehnična</td>\n",
       "      <td>11</td>\n",
       "    </tr>\n",
       "    <tr>\n",
       "      <th>bitnje</th>\n",
       "      <td>Beli Poper</td>\n",
       "      <td>51</td>\n",
       "    </tr>\n",
       "    <tr>\n",
       "      <th>boben</th>\n",
       "      <td>ah mat</td>\n",
       "      <td>4</td>\n",
       "    </tr>\n",
       "    <tr>\n",
       "      <th>...</th>\n",
       "      <td>...</td>\n",
       "      <td>...</td>\n",
       "    </tr>\n",
       "    <tr>\n",
       "      <th>vrsic</th>\n",
       "      <td>Watschnbam</td>\n",
       "      <td>1</td>\n",
       "    </tr>\n",
       "    <tr>\n",
       "      <th>zatrata</th>\n",
       "      <td>Vabljiva golobica</td>\n",
       "      <td>11</td>\n",
       "    </tr>\n",
       "    <tr>\n",
       "      <th>zavrnica</th>\n",
       "      <td>Sončna pot</td>\n",
       "      <td>16</td>\n",
       "    </tr>\n",
       "    <tr>\n",
       "      <th>zminec</th>\n",
       "      <td>Kanja</td>\n",
       "      <td>14</td>\n",
       "    </tr>\n",
       "    <tr>\n",
       "      <th>zvanov-rob</th>\n",
       "      <td>Burh</td>\n",
       "      <td>3</td>\n",
       "    </tr>\n",
       "  </tbody>\n",
       "</table>\n",
       "<p>102 rows × 2 columns</p>\n",
       "</div>"
      ],
      "text/plain": [
       "0                          smer  st_vzponov\n",
       "plezalisce                                 \n",
       "armeko                Za mamico           2\n",
       "armesko                Gargamel          36\n",
       "bitenj-potok           Tehnična          11\n",
       "bitnje               Beli Poper          51\n",
       "boben                   ah mat           4\n",
       "...                         ...         ...\n",
       "vrsic                Watschnbam           1\n",
       "zatrata       Vabljiva golobica          11\n",
       "zavrnica             Sončna pot          16\n",
       "zminec                    Kanja          14\n",
       "zvanov-rob                 Burh           3\n",
       "\n",
       "[102 rows x 2 columns]"
      ]
     },
     "execution_count": 5,
     "metadata": {},
     "output_type": "execute_result"
    }
   ],
   "source": [
    "def najbolj_plezana_smer(df):\n",
    "    '''\n",
    "    Vrne največkrat preplezano smer v tabelo df.\n",
    "    df - DataFrame s stolpcem 'smer'\n",
    "    '''\n",
    "    # grupira vzpone glede na smer\n",
    "    smeri_in_vzponi = df.groupby('smer').size().sort_values(ascending=False)\n",
    "    # doda v tako obliko, da zlahka dobim prvo vrstico\n",
    "    smeri_in_vzponi = smeri_in_vzponi.to_frame('st_vzponov').reset_index()\n",
    "    # smer * st_vzponov\n",
    "    return smeri_in_vzponi.loc[0]\n",
    "\n",
    "# za vsako plezališče izbere najbolj plezano smer\n",
    "najbolj_plezane_smeri = vzponi.groupby('plezalisce').apply(najbolj_plezana_smer)\n",
    "print(\"Najbolj pelzana smer v Bohinjski beli je\" , najbolj_plezane_smeri.loc['bohinjska-bela']['smer'] ,'.')\n",
    "najbolj_plezane_smeri"
   ]
  },
  {
   "cell_type": "markdown",
   "metadata": {},
   "source": [
    "## Filozofi\n",
    "Poiščimo ljudi, ki pišejo najdaljše komentarje."
   ]
  },
  {
   "cell_type": "code",
   "execution_count": 6,
   "metadata": {},
   "outputs": [
    {
     "data": {
      "text/plain": [
       "<AxesSubplot:title={'center':'Skupne dolžine komentarjev'}>"
      ]
     },
     "execution_count": 6,
     "metadata": {},
     "output_type": "execute_result"
    },
    {
     "data": {
      "image/png": "[encoded data removed]",
      "text/plain": [
       "<Figure size 432x288 with 1 Axes>"
      ]
     },
     "metadata": {
      "needs_background": "light"
     },
     "output_type": "display_data"
    }
   ],
   "source": [
    "# poberemo samo tiste vzponi, kejr komentar ni prazen\n",
    "komentarji = vzponi[vzponi['komentar'] == vzponi['komentar']]\n",
    "komentarji = komentarji[['uporabnik', 'plezalec', 'komentar']]\n",
    "# dodam stolpec z dolžino\n",
    "komentarji['dolzina']  = komentarji['komentar'].apply(len)\n",
    "# dolzine komentarjev\n",
    "dolzine = komentarji[['uporabnik', 'dolzina']]\n",
    "dolzine.groupby('uporabnik').sum().sort_values(by='dolzina', ascending= False).head(10).plot.barh(title='Skupne dolžine komentarjev',legend=False, xlabel='', colormap='viridis')"
   ]
  },
  {
   "cell_type": "markdown",
   "metadata": {},
   "source": [
    "Bolj realno oceno povedo povprečja. Da upoštevamo samo redne plezalce v mišji peči, gledamo samo tiste, ki so spisali vsaj 50 komentarjev."
   ]
  },
  {
   "cell_type": "code",
   "execution_count": 7,
   "metadata": {},
   "outputs": [
    {
     "name": "stdout",
     "output_type": "stream",
     "text": [
      "Število upoštevanih komentatorjev:  39\n"
     ]
    },
    {
     "data": {
      "text/plain": [
       "<AxesSubplot:title={'center':'Povprečne dolžine komentarjev'}>"
      ]
     },
     "execution_count": 7,
     "metadata": {},
     "output_type": "execute_result"
    },
    {
     "data": {
      "image/png": "[encoded data removed]",
      "text/plain": [
       "<Figure size 432x288 with 1 Axes>"
      ]
     },
     "metadata": {
      "needs_background": "light"
     },
     "output_type": "display_data"
    }
   ],
   "source": [
    "# konstanta, s katero priredim statistično analizo tako, da mi je všeč\n",
    "minimalno_število_komentarjev = 50\n",
    "\n",
    "# združim komentarje po uporabnikih\n",
    "komentarji_na_uporabnika = komentarji.groupby('uporabnik').size().to_frame(name=\"stevilo\")\n",
    "\n",
    "# uporabniki, ki so zadostkrat komentirali\n",
    "verodostojni_filozofi = komentarji_na_uporabnika[komentarji_na_uporabnika['stevilo'] > minimalno_število_komentarjev]\n",
    "verodostojni_filozofi.reset_index(level=0, inplace=True)\n",
    "verodostojni_filozofi = verodostojni_filozofi['uporabnik'].values #numpy array of str\n",
    "\n",
    "print('Število upoštevanih komentatorjev: ', len(verodostojni_filozofi))\n",
    "\n",
    "# dobim tabelo verodostojnih filozofov in dolzin\n",
    "dolzine.set_index('uporabnik', inplace=True)\n",
    "ustrezne_dolzine = dolzine.loc[verodostojni_filozofi] # dataframe verodostojen_uporabnik : dolzina\n",
    "\n",
    "# pogropiram po imenu in povprečim\n",
    "ustrezne_dolzine.groupby('uporabnik').mean().sort_values(by='dolzina', ascending= False).head(10).plot.barh(title='Povprečne dolžine komentarjev',legend=False, xlabel='', colormap='viridis')\n"
   ]
  },
  {
   "cell_type": "markdown",
   "metadata": {},
   "source": [
    "## Analiza težavnosti\n",
    "V tem poglavju bom analiziral razlike med težavnostmi in zasoljenosti ocen v posameznih plezališčih. Ugotovil bom, kje in katere smeri so najtežje, katera plezališča so ugodna za trening in določil oceno navitosti ocen vsem plezališčem.\n",
    "\n",
    "### Povprečne ocene\n",
    "Stran 8a.nu za vsak vzpon zabeleži oceno, ki jo je predlagal uporabnik. Ocena iste smeri se tako razlikuje v različnih vzponih. Zato sem poleg težavnosti (posameznikova ocena) definiral še povprečno oceno vsake smeri (polje *ocena*)."
   ]
  },
  {
   "cell_type": "code",
   "execution_count": 8,
   "metadata": {},
   "outputs": [
    {
     "name": "stdout",
     "output_type": "stream",
     "text": [
      "            smer tezavnost ocena\n",
      "id                              \n",
      "10154  Divja oma        8a   8a+\n",
      "10892  Divja oma       8a+   8a+\n",
      "11366  Divja oma       8a+   8a+\n",
      "12972  Divja oma       8a+   8a+\n",
      "13397  Divja oma       8a+   8a+\n",
      "14031  Divja oma        8a   8a+\n"
     ]
    }
   ],
   "source": [
    "smeri_in_tezavnosti = vzponi[['smer', 'tezavnost', 'ocena']]\n",
    "# razlika med ocenami pri smeri Divja oma v Kotečniku\n",
    "print(smeri_in_tezavnosti[smeri_in_tezavnosti['smer']=='Divja oma'])\n",
    "# print(smeri_in_tezavnosti[smeri_in_tezavnosti['smer']=='Ana Lisa'])\n",
    "del smeri_in_tezavnosti"
   ]
  },
  {
   "cell_type": "markdown",
   "metadata": {},
   "source": [
    "### Najtežje smeri v sloveniji\n",
    "Katere smeri so najtežje v Sloveniji?"
   ]
  },
  {
   "cell_type": "code",
   "execution_count": 9,
   "metadata": {},
   "outputs": [
    {
     "name": "stdout",
     "output_type": "stream",
     "text": [
      "                     smer  num ocena\n",
      "0              Massacrate   49   9a+\n",
      "1          Vicious Circle   49   9a+\n",
      "2                  Aikula   48    9a\n",
      "3                 In time   48    9a\n",
      "4             Pescena ura   48    9a\n",
      "..                    ...  ...   ...\n",
      "8                Umetnost   48    9a\n",
      "9            Xaxid hostel   48    9a\n",
      "10  Sanjski par extension   48    9a\n",
      "11            Water world   48    9a\n",
      "12                Botulin   47   8c+\n",
      "\n",
      "[13 rows x 3 columns]\n"
     ]
    },
    {
     "data": {
      "image/png": "[encoded data removed]",
      "text/plain": [
       "<Figure size 432x288 with 1 Axes>"
      ]
     },
     "metadata": {
      "needs_background": "light"
     },
     "output_type": "display_data"
    }
   ],
   "source": [
    "# Glej funcijo:\n",
    "# ogrodja.ocene()\n",
    "ocene = ['1a', '1a+', '1b', '1b+', '1c', '1c+', '2a', '2a+', '2b', '2b+', '2c', '2c+', '3a', '3a+', '3b', '3b+', '3c', '3c+', '4a', '4a+', '4b', '4b+', '4c', '4c+', '5a', '5a+', '5b', '5b+', '5c', '5c+', '6a', '6a+', '6b', '6b+', '6c', '6c+', '7a', '7a+', '7b', '7b+', '7c', '7c+', '8a', '8a+', '8b', '8b+', '8c', '8c+', '9a', '9a+'] #, '9b', '9b+', '9c', '9c+']\n",
    "\n",
    "# matplotlib potrebuje numerične parametre, da lahko\n",
    "# nariše graf. Zato ocene pretvorimo v cela števila\n",
    "\n",
    "#Funckija za vrednotenje ocen:\n",
    "def ocena_v_int(ocena):\n",
    "    if ocena in ocene:\n",
    "        return ocene.index(ocena)\n",
    "    # Lahke smeri nas ne zanimajo (in smeri z oceno 1a v resnici ne obstajajo)\n",
    "    # Zato lahko vse napake v podatkih slikam v '1a'\n",
    "    return 0\n",
    "        \n",
    "def int_v_oceno(x):\n",
    "    return ocene[x]\n",
    "\n",
    "# če me zanimajo najtežje smeri\n",
    "smeri_z_ocenami = vzponi.groupby('smer').apply(lambda df : (df['tezavnost'].apply(ocena_v_int)).max()).sort_values(ascending=False).to_frame(name='num').reset_index()\n",
    "smeri_z_ocenami['ocena']=smeri_z_ocenami['num'].apply(int_v_oceno)\n",
    "# na graf jih bom narisal le 13\n",
    "smeri_z_ocenami = smeri_z_ocenami.head(13)\n",
    "\n",
    "print(smeri_z_ocenami)\n",
    "# isto kot spodej.\n",
    "\n",
    "# popravljena skala za lepši graf\n",
    "zamik = smeri_z_ocenami['num'].min() - 1\n",
    "smeri_z_ocenami['num']-= zamik\n",
    "ocene_na_grafu = ocene[zamik:]\n",
    "# print(ocene_na_grafu)\n",
    "# print(najvecje_ocene)\n",
    "\n",
    "# https://stackoverflow.com/questions/66093970/pandas-plotting-bar-plot-non-numerical-data/66097436#66097436\n",
    "# open figure\n",
    "fig, ax = plt.subplots()\n",
    "# ensure limits\n",
    "ax.set_ylim([0,len(ocene_na_grafu)])\n",
    "ax.bar( x=smeri_z_ocenami['smer'], height=smeri_z_ocenami['num'] ,color='green')\n",
    "# ensure limits\n",
    "ax.set_ylim([0,len(ocene_na_grafu)])\n",
    "# set ticks\n",
    "ax.set_yticks( list(range(len(ocene_na_grafu))) )\n",
    "plt.xticks(rotation=90)\n",
    "# set tick labels\n",
    "ax.set_yticklabels( ocene_na_grafu )\n",
    "plt.title('13 najtežjih smeri v SLoveniji')\n",
    "\n",
    "# mam občutek ,da bom še kdaj definiral kaj takega\n",
    "del smeri_z_ocenami"
   ]
  },
  {
   "cell_type": "markdown",
   "metadata": {},
   "source": [
    "Za nadaljno analizo bo pomembno, katera plezališča imajo težke smeri. Poglejmo najtežje ocene v posameznih plezališčih."
   ]
  },
  {
   "cell_type": "code",
   "execution_count": 10,
   "metadata": {},
   "outputs": [
    {
     "data": {
      "text/plain": [
       "Text(0.5, 1.0, 'Najvišje ocene v plezališčih')"
      ]
     },
     "execution_count": 10,
     "metadata": {},
     "output_type": "execute_result"
    },
    {
     "data": {
      "image/png": "[encoded data removed]",
      "text/plain": [
       "<Figure size 432x288 with 1 Axes>"
      ]
     },
     "metadata": {
      "needs_background": "light"
     },
     "output_type": "display_data"
    }
   ],
   "source": [
    "# funckija, ki iz tabele izbeza maximalno oceno\n",
    "def max_ocena(df):\n",
    "    df = df['ocena'].apply(ocena_v_int)\n",
    "    return df.max()\n",
    "    \n",
    "# tabela plezališč in največjih ocen v njem\n",
    "najvecje_ocene = vzponi.groupby('plezalisce').apply(max_ocena).sort_values(ascending=False).head(10).to_frame(name=\"numericna\")\n",
    "\n",
    "# doda plezalisce kot stolpec\n",
    "najvecje_ocene.reset_index(inplace=True)\n",
    "\n",
    "\n",
    "# popravljena skala za lepši graf\n",
    "zamik = najvecje_ocene['numericna'].min() - 1\n",
    "najvecje_ocene['numericna']-= zamik\n",
    "ocene_na_grafu = ocene[zamik:]\n",
    "# print(ocene_na_grafu)\n",
    "# print(najvecje_ocene)\n",
    "\n",
    "\n",
    "# https://stackoverflow.com/questions/66093970/pandas-plotting-bar-plot-non-numerical-data/66097436#66097436\n",
    "# open figure\n",
    "fig, ax = plt.subplots()\n",
    "# ensure limits\n",
    "ax.set_ylim([0,len(ocene_na_grafu)])\n",
    "ax.bar( x=najvecje_ocene['plezalisce'], height=najvecje_ocene['numericna'] , color='darkred')\n",
    "# ensure limits\n",
    "ax.set_ylim([0,len(ocene_na_grafu)])\n",
    "# set ticks\n",
    "ax.set_yticks( list(range(len(ocene_na_grafu))) )\n",
    "plt.xticks(rotation=90)\n",
    "# set tick labels\n",
    "ax.set_yticklabels( ocene_na_grafu )\n",
    "plt.title('Najvišje ocene v plezališčih')\n",
    "\n"
   ]
  },
  {
   "cell_type": "markdown",
   "metadata": {},
   "source": [
    "### Plezališča, primerna za treninge\n",
    "Za kvaliteten trening je pa bolj od maksimalnosti pomambna raznolikost dovolj težkih smeri. Glejmo število smeri z oceno vsaj 8a."
   ]
  },
  {
   "cell_type": "code",
   "execution_count": 11,
   "metadata": {},
   "outputs": [
    {
     "data": {
      "text/plain": [
       "<AxesSubplot:title={'center':'Število smeri nad 8a'}>"
      ]
     },
     "execution_count": 11,
     "metadata": {},
     "output_type": "execute_result"
    },
    {
     "data": {
      "image/png": "[encoded data removed]",
      "text/plain": [
       "<Figure size 432x288 with 1 Axes>"
      ]
     },
     "metadata": {
      "needs_background": "light"
     },
     "output_type": "display_data"
    }
   ],
   "source": [
    "meja = ocena_v_int('8a') # poglej me\n",
    "\n",
    "def st_tezkih_smeri(df):\n",
    "    # da ne stejem smeri dvojno\n",
    "    df = df[['ocena', 'smer']].drop_duplicates()\n",
    "    # print(df[df['smer']=='Divja oma'])\n",
    "    smeri = df['ocena'].apply(ocena_v_int).to_frame(name='num')\n",
    "    tezke_smeri = smeri[smeri['num'] >= meja]\n",
    "    return len(tezke_smeri)\n",
    "    \n",
    "\n",
    "\n",
    "vzponi.groupby('plezalisce').apply(st_tezkih_smeri).sort_values(ascending=False).head(10).plot.barh(title='Število smeri nad 8a', xlabel='')"
   ]
  },
  {
   "cell_type": "markdown",
   "metadata": {},
   "source": [
    "### Katere smeri so soft? \n",
    "V žargonu so smeri, ki so za svojo oceno lahke, torej lažje od ostalih s tako oceno, *soft* (tudi: poceni, zastonj). Lepa značilnost soft smeri je, da jo hitro splezajo plezalci, ki jim sicer ocena predstavlja izziv. Prav tako za tako smer pričakujemo veliko vzponov na pogled *(onsight)* in zlizane stope. \n",
    "\n",
    "Če nas zanima, kako soft je smer, je torej smiselno primerjati oceno smeri s plezalčevim povprečjem. Majhen delež vzponov na pogled pa pove, da smer ni poceni (obratno ni nujno res, lahko, da smer ni poceni, ampak je blazno berljiva, recimo Smer krokarjev v Dovžanovi soteski).\n",
    "\n",
    "Za dobro analizo cene smeri potrebujem dovolj vzponov (zato bodo težke smeri (>8b) verjetno imele slabo ceno). \n",
    "\n",
    "**Intuicija za skalo:** V plezalnih krogih plezalec, ki je poleg mnogih *(>10)* smeri z oceno 6b splezal en 7a, velja za 6b plezalca. Plezalec z enim 8a in mnogim 7b po javnem mnenju pleza smeri tja do 7c. V plezalne sposobnosti plezalca, ki pa spleza svoj prvi 9a, pa ne domi nihče, in ima vso pravico, da se kliče 9a plezalec. *(Vir: Mia Krampl)*\n",
    "\n",
    "Prejšnja linearna skala za primerjanje ocen torej ni relavantna, saj so razlike proti vrhu težavnostne lestvice enake tistim na koncu. Lepe rezultate pa dajejo razne esponentne.\n"
   ]
  },
  {
   "cell_type": "code",
   "execution_count": 12,
   "metadata": {},
   "outputs": [
    {
     "name": "stdout",
     "output_type": "stream",
     "text": [
      "Francoske ocene: ['6a', '6a+', '6b', '6b+', '6c', '6c+', '7a', '7a+', '7b', '7b+', '7c', '7c+', '8a', '8a+', '8b', '8b+', '8c', '8c+', '9a', '9a+']\n"
     ]
    },
    {
     "ename": "NameError",
     "evalue": "name 'potencna_skala' is not defined",
     "output_type": "error",
     "traceback": [
      "\u001b[0;31m---------------------------------------------------------------------------\u001b[0m",
      "\u001b[0;31mNameError\u001b[0m                                 Traceback (most recent call last)",
      "\u001b[0;32m<ipython-input-12-2817eb3919f9>\u001b[0m in \u001b[0;36m<module>\u001b[0;34m\u001b[0m\n\u001b[1;32m      7\u001b[0m     \u001b[0;32mreturn\u001b[0m \u001b[0;34m[\u001b[0m\u001b[0ma\u001b[0m\u001b[0;34m**\u001b[0m\u001b[0;34m(\u001b[0m\u001b[0mn\u001b[0m\u001b[0;34m)\u001b[0m \u001b[0;32mfor\u001b[0m \u001b[0mn\u001b[0m \u001b[0;32min\u001b[0m \u001b[0mrange\u001b[0m\u001b[0;34m(\u001b[0m\u001b[0;36m0\u001b[0m\u001b[0;34m,\u001b[0m\u001b[0mdolzina\u001b[0m\u001b[0;34m)\u001b[0m\u001b[0;34m]\u001b[0m\u001b[0;34m\u001b[0m\u001b[0;34m\u001b[0m\u001b[0m\n\u001b[1;32m      8\u001b[0m \u001b[0;34m\u001b[0m\u001b[0m\n\u001b[0;32m----> 9\u001b[0;31m \u001b[0mpotencna_skala\u001b[0m\u001b[0;34m(\u001b[0m\u001b[0;36m2\u001b[0m\u001b[0;34m)\u001b[0m\u001b[0;34m\u001b[0m\u001b[0;34m\u001b[0m\u001b[0m\n\u001b[0m\u001b[1;32m     10\u001b[0m \u001b[0;34m\u001b[0m\u001b[0m\n\u001b[1;32m     11\u001b[0m \u001b[0;31m# globalni:\u001b[0m\u001b[0;34m\u001b[0m\u001b[0;34m\u001b[0m\u001b[0;34m\u001b[0m\u001b[0m\n",
      "\u001b[0;31mNameError\u001b[0m: name 'potencna_skala' is not defined"
     ]
    }
   ],
   "source": [
    "import math\n",
    "print(f'Francoske ocene: {ocene[30:]}')\n",
    "def eksponentna_skala(a, dolzina=len(ocene)):\n",
    "    '''\n",
    "    Vrne tabelirano funcijo [x^a] za n=1,..., dolzina\n",
    "    '''\n",
    "    return [a**(n) for n in range(0,dolzina)]\n",
    "\n",
    "# globalni:\n",
    "a = 4\n",
    "skala = eksponentna_skala(a)\n",
    "\n",
    "\n",
    "# isto kot zgoraj, samo da zdaj operiramo s skalo\n",
    "def ocena_v_skalo(ocena):\n",
    "    if ocena in ocene:\n",
    "        return skala[ocene.index(ocena)]\n",
    "    return 0\n",
    "        \n",
    "#for i in ocene:\n",
    "#    print(i, '   -->  ', ocena_v_skalo(i))\n",
    "    \n",
    "def skala_v_oceno(x):\n",
    "    return ocene[skala.index(x)]\n",
    "\n",
    "def povprecje_ocen(seznam):\n",
    "    '''\n",
    "    Vrne povprečje ocen glede na skalo\n",
    "    '''\n",
    "   # print('nev list', list(map(ocena_v_skalo, seznam)))\n",
    "    avrg = sum(list(map(ocena_v_skalo, seznam)))/len(seznam)\n",
    "    # treba je najdt best match za avrg\n",
    "    # velja (index_ocene)** i = skala\n",
    "    prbl_index = math.log(avrg)/math.log(a)\n",
    "    return ocene[round(prbl_index)]\n",
    "    \n",
    "\n",
    "primer = [(['6b+']*10 + ['7a']), \n",
    " (['7b+']*10 + ['8a']),\n",
    " (['8c+']*10 + ['9a'])\n",
    "]\n",
    "print(povprecje_ocen(primer[0]))\n",
    "print(povprecje_ocen(primer[1]))\n",
    "print(povprecje_ocen(primer[2]))"
   ]
  },
  {
   "cell_type": "markdown",
   "metadata": {},
   "source": [
    "Uvajam mero enostavnosti za smeri\n",
    "$\\operatorname{cena}(\\text{smer})$, ki ga za smer $S$ definiram kot\n",
    "\n",
    "$$\n",
    "   \\operatorname{cena}(S) = C\\cdot \\left (\\displaystyle \\frac{1}{N}\\sum_{v \\in V} \\min \\left (1, \\frac{\\sigma(p_v)}{\\operatorname{ocena}(S)}\\right) \\cdot \\operatorname{poskusi}(v)^{-1}  \\right)\\cdot \\left(  \\frac{N'}{N} \\right )\\cdot \\sqrt N\n",
    "$$\n",
    "kjer je $N$ število vzponov te smeri, $V$ so vsi vzponi te smeri (z $p_v$ označim plezalca pri vzponu $v \\in V$), $\\sigma(p)$ je povprečna ocena 5% najtežjih smeri plezalca $p$, \\operatorname{poskusi}(v) 1 za *redpoint* ali *toprope*, 5 za *flash* in 10 za *onsight*. $N'$ je število vzponov na pogled. C=100\n",
    "\n",
    "*Intuicija:* \n",
    "- *veliko težja smer od ostalih preplezanih -->  poceni*\n",
    "- *na polged (na fleš) --> poceni*\n",
    "- *veliko ponovitev --> bolj poceni kot malo ponovitev*\n",
    "\n",
    "**Opomba**: računanje sigme za posameznega plezalca traja, zato sem jo že izračunal. Funkcija `sigma_memo()` uporabi izračunane rezultate. Če želite rezultate izračunati sami, zamenjajte `sigma_memo(plezalec)` s `sigma(plezalec)`"
   ]
  },
  {
   "cell_type": "code",
   "execution_count": 38,
   "metadata": {},
   "outputs": [
    {
     "data": {
      "text/html": [
       "<div>\n",
       "<style scoped>\n",
       "    .dataframe tbody tr th:only-of-type {\n",
       "        vertical-align: middle;\n",
       "    }\n",
       "\n",
       "    .dataframe tbody tr th {\n",
       "        vertical-align: top;\n",
       "    }\n",
       "\n",
       "    .dataframe thead th {\n",
       "        text-align: right;\n",
       "    }\n",
       "</style>\n",
       "<table border=\"1\" class=\"dataframe\">\n",
       "  <thead>\n",
       "    <tr style=\"text-align: right;\">\n",
       "      <th></th>\n",
       "      <th>smer-plezalisce</th>\n",
       "      <th>cena</th>\n",
       "    </tr>\n",
       "  </thead>\n",
       "  <tbody>\n",
       "    <tr>\n",
       "      <th>5429</th>\n",
       "      <td>Karies-osp-misja-pec</td>\n",
       "      <td>0.0</td>\n",
       "    </tr>\n",
       "  </tbody>\n",
       "</table>\n",
       "</div>"
      ],
      "text/plain": [
       "           smer-plezalisce  cena\n",
       "5429  Karies-osp-misja-pec   0.0"
      ]
     },
     "execution_count": 38,
     "metadata": {},
     "output_type": "execute_result"
    }
   ],
   "source": [
    "# uporabil bom zapis smeri ime+plezalisce, da locim med razlicnimi plezalisci\n",
    "vzponi['smer-plezalisce'] = vzponi['smer'] + '-'+ vzponi['plezalisce']\n",
    "\n",
    "\n",
    "# če ne uporabljaš sigma_memo, ki uporabi podatke iz mape\n",
    "# boš sigma(plezalec) klical večkrat. (pri jaku šprahu 6000krat)\n",
    "# zato se jo splača zapolnit\n",
    "memo={}\n",
    "\n",
    "def sigma(plezalec):\n",
    "    '''\n",
    "    Izračuna povprečno* oceno 10% najtežjih vzponov\n",
    "    \n",
    "    plezalec - uporabniško ime plezalca\n",
    "    \n",
    "    * upošteva razlike med ocenami\n",
    "    '''\n",
    "    if not memo.get(plezalec) is None:\n",
    "        return memo[plezalec]\n",
    "    \n",
    "    ustrezni_vzponi = vzponi[vzponi['uporabnik'] == plezalec]\n",
    "    # ocene uredimo zato, da zlahka vzamem 5%\n",
    "    ocene = ustrezni_vzponi['ocena'].apply(ocena_v_skalo).sort_values()\n",
    "    # če ima uporabnik manj kot 10 preplezanih smeri\n",
    "    # je itak neprezentativen\n",
    "    # in je zato fajn, da vzamemo 0 kot njegovo povprečje in ga ne upoštevamo\n",
    "    n_10p = int(0.1 * ocene.size)\n",
    "    if n_10p <= 0:\n",
    "        return 0\n",
    "    ocene = ocene.iloc[:n_10p]\n",
    "    seznam = ocene.to_numpy()\n",
    "    memo[plezalec] = sum(seznam) / len(seznam)\n",
    "    return memo[plezalec]\n",
    "\n",
    "def izracunaj_sigme(path):\n",
    "    '''\n",
    "    Izračuna sigme za vse uporabnike in to shrani v mapo path\n",
    "    '''\n",
    "    uporabniki = vzponi['uporabnik'].drop_duplicates().to_numpy()\n",
    "    sigme=[]\n",
    "    for uporabnik in uporabniki:\n",
    "        print(f'Računam sigmo za {uporabnik}..')\n",
    "        sigme.append(sigma(uporabnik))\n",
    "    df = pd.DataFrame(data={'uporabnik' : uporabniki, 'sigma': sigme})\n",
    "    print(df)\n",
    "    df.to_csv(path)\n",
    "    scatter\n",
    "# izracunaj_sigme('/mnt/Podatki/Documents/fmf/programiranje-1/plezalni-vzponi-v-sloveniji/memo/sigme.csv')\n",
    "\n",
    "\n",
    "def sigma_memo_init():\n",
    "    '''\n",
    "    Iz tabele v ../memo/sigme.csv prebere sigme \n",
    "    '''\n",
    "    tabela = pd.read_csv('memo/sigme.csv', index_col=0)\n",
    "    return tabela.set_index('uporabnik').transpose()\n",
    "\n",
    "def sigma_memo(plezalec, tabela):\n",
    "    '''\n",
    "    Iz tabele tabela prebere sigmo uporanika\n",
    "    '''\n",
    "    return tabela[plezalec][0]\n",
    "        \n",
    "    \n",
    "def cena(V):\n",
    "    '''\n",
    "    Izračuna ceno smeri\n",
    "    df - seznam vzponov te smeri\n",
    "    '''\n",
    "    # prebere že izračunane podatke\n",
    "    sigme = sigma_memo_init()\n",
    "    # print(V)\n",
    "    N = V.size\n",
    "    if N == 0:\n",
    "        # to naj se ne bi zgodilo\n",
    "        return None\n",
    "    ocena_smeri = ocena_v_skalo(V.loc[V.index[0]]['ocena']) #dela\n",
    "    if ocena_smeri == 0:\n",
    "        print(V.loc[V.index[0]]['ocena'])\n",
    "        print(V)\n",
    "    \n",
    "    vsota = 0\n",
    "    # vsoto bomo direknto poračunali tako\n",
    "    # da bomo šli čez vse vzpone\n",
    "    for i, s in V.iterrows():\n",
    "        # plezalec tega vzpona p_v:\n",
    "        # (gledal bom uporabniška imena, ker so enolična)\n",
    "        plezalec = s['uporabnik']                               #(dela)\n",
    "        poskusi = 1\n",
    "        if s['poskusi'] == 'onsight':\n",
    "            poskusi = 10 \n",
    "        if s['poskusi'] == 'flash':\n",
    "            poskusi = 5\n",
    "        \n",
    "        vsota += min(1, sigma_memo(plezalec, sigme) / ocena_smeri) * (1/poskusi)\n",
    "    # N' - št. vzponov na pogled\n",
    "    N_ = V[V['poskusi']=='onsight'].size\n",
    "    \n",
    "    return 100 * (1/N) * vsota * (N_/N) * (N**(1/2))\n",
    "        \n",
    "        \n",
    "    \n",
    "\n",
    "\n",
    "# ker tudi izračun cen traja, sem jih že izračunal\n",
    "\n",
    "#cene_smeri = vzponi.groupby('smer-plezalisce').apply(cena).sort_values(ascending=False).to_frame(name=\"cena\")\n",
    "cene_smeri = pd.read_csv('memo/cene_smeri.csv')\n",
    "cene_smeri = cene_smeri[['smer-plezalisce', 'cena']]\n",
    "cene_smeri[cene_smeri['smer-plezalisce'] == 'Karies-osp-misja-pec']"
   ]
  },
  {
   "cell_type": "code",
   "execution_count": 44,
   "metadata": {},
   "outputs": [
    {
     "name": "stdout",
     "output_type": "stream",
     "text": [
      "           smer-plezalisce  cena\n",
      "5429  Karies-osp-misja-pec   0.0\n",
      "         smer-plezalisce      cena\n",
      "131  Rodeo-osp-misja-pec  8.120202\n",
      "          smer-plezalisce      cena\n",
      "2216  Corto-osp-misja-pec  0.205567\n",
      "         smer-plezalisce      cena\n",
      "2023  Runo-osp-misja-pec  0.355195\n",
      "         smer-plezalisce      cena\n",
      "167  Lady-bohinjska-bela  7.017678\n",
      "               smer-plezalisce  cena\n",
      "3832  Ekosistem-bohinjska-bela   0.0\n"
     ]
    }
   ],
   "source": [
    "# nekaj znanih smeri:\n",
    "znane_smeri = ['Karies-osp-misja-pec', # Soft 8b v Ospu\n",
    "               'Rodeo-osp-misja-pec', # najbolj plezana smer v Mišji (glede na 8a). Ocena je rscatterealna\n",
    "               'Corto-osp-misja-pec', # hard 8a v Mišji\n",
    "               'Runo-osp-misja-pec', # konkreten 7b+ v mišji\n",
    "               'Lady-bohinjska-bela', # pošten 7a+ v Beli\n",
    "               'Ekosistem-bohinjska-bela', # tehničen 8a v Beli\n",
    "]\n",
    "for s in znane_smeri:\n",
    "    print(cene_smeri[cene_smeri['smer-plezalisce'] == s])"
   ]
  },
  {
   "cell_type": "markdown",
   "metadata": {},
   "source": [
    "Cena smeri sicer variira med posamezniki, vendar ti testi primeri kažejo smiselne ocene."
   ]
  },
  {
   "cell_type": "markdown",
   "metadata": {},
   "source": [
    "### Katera plezališča so soft?\n",
    "Za ceno plezališča lahko povprečimo vse smeri v plezališču. "
   ]
  },
  {
   "cell_type": "code",
   "execution_count": 80,
   "metadata": {},
   "outputs": [
    {
     "data": {
      "text/html": [
       "<div>\n",
       "<style scoped>\n",
       "    .dataframe tbody tr th:only-of-type {\n",
       "        vertical-align: middle;\n",
       "    }\n",
       "\n",
       "    .dataframe tbody tr th {\n",
       "        vertical-align: top;\n",
       "    }\n",
       "\n",
       "    .dataframe thead th {\n",
       "        text-align: right;\n",
       "    }\n",
       "</style>\n",
       "<table border=\"1\" class=\"dataframe\">\n",
       "  <thead>\n",
       "    <tr style=\"text-align: right;\">\n",
       "      <th></th>\n",
       "      <th>plezalisce</th>\n",
       "      <th>cena</th>\n",
       "    </tr>\n",
       "  </thead>\n",
       "  <tbody>\n",
       "    <tr>\n",
       "      <th>0</th>\n",
       "      <td>matvoz</td>\n",
       "      <td>0.000000</td>\n",
       "    </tr>\n",
       "    <tr>\n",
       "      <th>1</th>\n",
       "      <td>boben</td>\n",
       "      <td>0.000000</td>\n",
       "    </tr>\n",
       "    <tr>\n",
       "      <th>2</th>\n",
       "      <td>zvanov-rob</td>\n",
       "      <td>0.000000</td>\n",
       "    </tr>\n",
       "    <tr>\n",
       "      <th>3</th>\n",
       "      <td>umberk</td>\n",
       "      <td>0.002811</td>\n",
       "    </tr>\n",
       "    <tr>\n",
       "      <th>4</th>\n",
       "      <td>soder-graben</td>\n",
       "      <td>0.004815</td>\n",
       "    </tr>\n",
       "    <tr>\n",
       "      <th>...</th>\n",
       "      <td>...</td>\n",
       "      <td>...</td>\n",
       "    </tr>\n",
       "    <tr>\n",
       "      <th>97</th>\n",
       "      <td>preddvor</td>\n",
       "      <td>3.144534</td>\n",
       "    </tr>\n",
       "    <tr>\n",
       "      <th>98</th>\n",
       "      <td>retovje</td>\n",
       "      <td>3.324914</td>\n",
       "    </tr>\n",
       "    <tr>\n",
       "      <th>99</th>\n",
       "      <td>crni-kal</td>\n",
       "      <td>3.458830</td>\n",
       "    </tr>\n",
       "    <tr>\n",
       "      <th>100</th>\n",
       "      <td>kupljenik</td>\n",
       "      <td>3.920951</td>\n",
       "    </tr>\n",
       "    <tr>\n",
       "      <th>101</th>\n",
       "      <td>armeko</td>\n",
       "      <td>4.264016</td>\n",
       "    </tr>\n",
       "  </tbody>\n",
       "</table>\n",
       "<p>102 rows × 2 columns</p>\n",
       "</div>"
      ],
      "text/plain": [
       "       plezalisce      cena\n",
       "0          matvoz  0.000000\n",
       "1           boben  0.000000\n",
       "2      zvanov-rob  0.000000\n",
       "3          umberk  0.002811\n",
       "4    soder-graben  0.004815\n",
       "..            ...       ...\n",
       "97       preddvor  3.144534\n",
       "98        retovje  3.324914\n",
       "99       crni-kal  3.458830\n",
       "100     kupljenik  3.920951\n",
       "101        armeko  4.264016\n",
       "\n",
       "[102 rows x 2 columns]"
      ]
     },
     "execution_count": 80,
     "metadata": {},
     "output_type": "execute_result"
    }
   ],
   "source": [
    "# dodam stolpec s cenami v vzpone\n",
    "tmp = cene_smeri.set_index('smer-plezalisce').transpose()\n",
    "\n",
    "# to ni najlepša rešitev, a dela\n",
    "def cena_plezalisca(df):\n",
    "    imena = df['smer-plezalisce'].to_numpy()\n",
    "    ans = 0\n",
    "    count = 0\n",
    "    for ime in imena:\n",
    "        count += 1\n",
    "        try:\n",
    "            ans += tmp[ime]\n",
    "        except:\n",
    "            continue\n",
    "        \n",
    "    return ans/count\n",
    "\n",
    "\n",
    "cene_plezalisc = vzponi.groupby('plezalisce').apply(cena_plezalisca).sort_values(by='cena', ascending='False').reset_index()\n",
    "cene_plezalisc"
   ]
  },
  {
   "cell_type": "code",
   "execution_count": 92,
   "metadata": {},
   "outputs": [
    {
     "data": {
      "text/plain": [
       "<AxesSubplot:title={'center':'10 najbolj soft plezališč'}>"
      ]
     },
     "execution_count": 92,
     "metadata": {},
     "output_type": "execute_result"
    },
    {
     "data": {
      "image/png": "[encoded data removed]",
      "text/plain": [
       "<Figure size 432x288 with 1 Axes>"
      ]
     },
     "metadata": {
      "needs_background": "light"
     },
     "output_type": "display_data"
    }
   ],
   "source": [
    "cene_plezalisc.head(10).plot.barh(title=\"10 najbolj soft plezališč\",x='plezalisce', y='cena', color=\"olive\", xlabel='')"
   ]
  },
  {
   "cell_type": "code",
   "execution_count": 97,
   "metadata": {},
   "outputs": [
    {
     "data": {
      "text/plain": [
       "<AxesSubplot:title={'center':'20 najmanj soft plezališč'}>"
      ]
     },
     "execution_count": 97,
     "metadata": {},
     "output_type": "execute_result"
    },
    {
     "data": {
      "image/png": "[encoded data removed]",
      "text/plain": [
       "<Figure size 432x288 with 1 Axes>"
      ]
     },
     "metadata": {
      "needs_background": "light"
     },
     "output_type": "display_data"
    }
   ],
   "source": [
    "cene_plezalisc.tail(20).plot.barh(title='20 najmanj soft plezališč',x='plezalisce', y='cena', color=\"darkblue\",xlabel='')"
   ]
  },
  {
   "cell_type": "markdown",
   "metadata": {},
   "source": [
    "## Časovna obremenjenost plezališč\n",
    "Poglejmo, katere dni je obisk plezališč največji."
   ]
  },
  {
   "cell_type": "code",
   "execution_count": 107,
   "metadata": {},
   "outputs": [
    {
     "data": {
      "text/plain": [
       "<AxesSubplot:title={'center':'Obremenjenosti čez teden'}>"
      ]
     },
     "execution_count": 107,
     "metadata": {},
     "output_type": "execute_result"
    },
    {
     "data": {
      "image/png": "[encoded data removed]",
      "text/plain": [
       "<Figure size 432x288 with 1 Axes>"
      ]
     },
     "metadata": {
      "needs_background": "light"
     },
     "output_type": "display_data"
    }
   ],
   "source": [
    "import datetime \n",
    "import calendar \n",
    "\n",
    "def prevedi_ime_dneva(dan):\n",
    "    slovar = {\n",
    "    'Sunday' : 'Nedelja',\n",
    "    'Monday' : 'Ponedeljek',\n",
    "    'Tuesday' : 'Torek',\n",
    "    'Wednesday' : 'Sreda',\n",
    "    'Thursday' : 'Četrtek',\n",
    "    'Friday' : 'Petek',\n",
    "    'Saturday' : 'Sobota'}\n",
    "    return slovar[dan]\n",
    "\n",
    "# https://www.geeksforgeeks.org/python-program-to-find-day-of-the-week-for-a-given-date/?ref=rp\n",
    "def findDay(date): \n",
    "    born = datetime.datetime.strptime(date, '%m/%d/%Y').weekday() \n",
    "    return prevedi_ime_dneva(calendar.day_name[born]) \n",
    "vzponi['dan'] = vzponi['datum'].apply(findDay)\n",
    "vzponi.groupby('dan').size().sort_values(ascending=False).head(20).plot.bar(title='Obremenjenosti čez teden', xlabel='', ylabel=\"\")"
   ]
  },
  {
   "cell_type": "markdown",
   "metadata": {},
   "source": [
    "Kako se pa spreminja število obiskov čez leta?"
   ]
  },
  {
   "cell_type": "code",
   "execution_count": 115,
   "metadata": {},
   "outputs": [
    {
     "data": {
      "text/plain": [
       "<AxesSubplot:xlabel='leto'>"
      ]
     },
     "execution_count": 115,
     "metadata": {},
     "output_type": "execute_result"
    },
    {
     "data": {
      "image/png": "[encoded data removed]",
      "text/plain": [
       "<Figure size 432x288 with 1 Axes>"
      ]
     },
     "metadata": {
      "needs_background": "light"
     },
     "output_type": "display_data"
    }
   ],
   "source": [
    "# najprej poračunajmo leta\n",
    "def datum_v_leto(datum):\n",
    "    return int(datum.split('/')[2])\n",
    "vzponi['leto'] = vzponi['datum'].apply(datum_v_leto)\n",
    "vzponi.groupby('leto').size().plot(color='green')"
   ]
  },
  {
   "cell_type": "markdown",
   "metadata": {},
   "source": [
    "## Odvisnost števila vzponov od ocene\n",
    "Za konec poglejmo še, kako je število vzponov odvisno od ocene posamezne smeri. Spet bom uporabil linearno skalo."
   ]
  },
  {
   "cell_type": "code",
   "execution_count": 158,
   "metadata": {},
   "outputs": [
    {
     "name": "stderr",
     "output_type": "stream",
     "text": [
      "<ipython-input-158-1dfcd816abbe>:8: UserWarning: FixedFormatter should only be used together with FixedLocator\n",
      "  ax.set_xticklabels( ['0','1a', '2c', '4b', '6a', '7c', '9b+'] )\n"
     ]
    },
    {
     "data": {
      "text/plain": [
       "[('1a', 0),\n",
       " ('1a+', 1),\n",
       " ('1b', 2),\n",
       " ('1b+', 3),\n",
       " ('1c', 4),\n",
       " ('1c+', 5),\n",
       " ('2a', 6),\n",
       " ('2a+', 7),\n",
       " ('2b', 8),\n",
       " ('2b+', 9),\n",
       " ('2c', 10),\n",
       " ('2c+', 11),\n",
       " ('3a', 12),\n",
       " ('3a+', 13),\n",
       " ('3b', 14),\n",
       " ('3b+', 15),\n",
       " ('3c', 16),\n",
       " ('3c+', 17),\n",
       " ('4a', 18),\n",
       " ('4a+', 19),\n",
       " ('4b', 20),\n",
       " ('4b+', 21),\n",
       " ('4c', 22),\n",
       " ('4c+', 23),\n",
       " ('5a', 24),\n",
       " ('5a+', 25),\n",
       " ('5b', 26),\n",
       " ('5b+', 27),\n",
       " ('5c', 28),\n",
       " ('5c+', 29),\n",
       " ('6a', 30),\n",
       " ('6a+', 31),\n",
       " ('6b', 32),\n",
       " ('6b+', 33),\n",
       " ('6c', 34),\n",
       " ('6c+', 35),\n",
       " ('7a', 36),\n",
       " ('7a+', 37),\n",
       " ('7b', 38),\n",
       " ('7b+', 39),\n",
       " ('7c', 40),\n",
       " ('7c+', 41),\n",
       " ('8a', 42),\n",
       " ('8a+', 43),\n",
       " ('8b', 44),\n",
       " ('8b+', 45),\n",
       " ('8c', 46),\n",
       " ('8c+', 47),\n",
       " ('9a', 48),\n",
       " ('9a+', 49)]"
      ]
     },
     "execution_count": 158,
     "metadata": {},
     "output_type": "execute_result"
    },
    {
     "data": {
      "image/png": "[encoded data removed]",
      "text/plain": [
       "<Figure size 432x288 with 1 Axes>"
      ]
     },
     "metadata": {
      "needs_background": "light"
     },
     "output_type": "display_data"
    }
   ],
   "source": [
    "# število vzponov na smer\n",
    "smeri_st = vzponi.groupby('smer-plezalisce').size().to_frame(name='stevilo_vzponov').reset_index()\n",
    "smeri_ocene = vzponi.groupby('smer-plezalisce').apply(lambda x : x['ocena'].to_numpy()[0]).to_frame('ocena').reset_index()\n",
    "smeri = pd.merge(smeri_st, smeri_ocene)\n",
    "smeri['numericna']= smeri['ocena'].apply(lambda x : ocena_v_int(x))\n",
    "ax = smeri.plot.scatter(x='numericna', y='stevilo_vzponov')\n",
    "# ax.set_xticks( list(range(len(ocene))) )\n",
    "ax.set_xticklabels( ['0','1a', '2c', '4b', '6a', '7c', '9b+'] )\n",
    "[(ocene[i], i) for i in range(0, len(ocene))]"
   ]
  },
  {
   "cell_type": "markdown",
   "metadata": {},
   "source": [
    "# Izsledki\n",
    "- Čez vikend je gužva povsod\n",
    "- Karies je res soft\n",
    "- Zdaj se več pleza"
   ]
  }
 ],
 "metadata": {
  "kernelspec": {
   "display_name": "Python 2",
   "language": "python",
   "name": "python2"
  },
  "language_info": {
   "codemirror_mode": {
    "name": "ipython",
    "version": 3
   },
   "file_extension": ".py",
   "mimetype": "text/x-python",
   "name": "python",
   "nbconvert_exporter": "python",
   "pygments_lexer": "ipython3",
   "version": "3.8.5"
  }
 },
 "nbformat": 4,
 "nbformat_minor": 2
}
